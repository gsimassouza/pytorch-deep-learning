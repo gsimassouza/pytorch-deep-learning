{
  "nbformat": 4,
  "nbformat_minor": 0,
  "metadata": {
    "colab": {
      "name": "02_pytorch_classification_exercises.ipynb",
      "provenance": [],
      "include_colab_link": true
    },
    "kernelspec": {
      "name": "python3",
      "display_name": "Python 3"
    },
    "language_info": {
      "name": "python"
    },
    "accelerator": "GPU"
  },
  "cells": [
    {
      "cell_type": "markdown",
      "metadata": {
        "id": "view-in-github",
        "colab_type": "text"
      },
      "source": [
        "<a href=\"https://colab.research.google.com/github/gsimassouza/pytorch-deep-learning/blob/main/extras/exercises/02_pytorch_classification_exercises.ipynb\" target=\"_parent\"><img src=\"https://colab.research.google.com/assets/colab-badge.svg\" alt=\"Open In Colab\"/></a>"
      ]
    },
    {
      "cell_type": "markdown",
      "source": [
        "# 02. PyTorch Classification Exercises\n",
        "\n",
        "The following is a template for 02. PyTorch Classification exercises.\n",
        "\n",
        "It's only starter code and it's your job to fill in the blanks.\n",
        "\n",
        "Because of the flexibility of PyTorch, there may be more than one way to answer the question.\n",
        "\n",
        "Don't worry about trying to be *right* just try writing code that suffices the question.\n",
        "\n",
        "## Resources\n",
        "* These exercises are based on [notebook 02 of the learn PyTorch course](https://www.learnpytorch.io/02_pytorch_classification/).\n",
        "* You can see one form of [solutions on GitHub](https://github.com/mrdbourke/pytorch-deep-learning/tree/main/extras/solutions) (but try the exercises below yourself first!)."
      ],
      "metadata": {
        "id": "ZKJFt7YxH8yl"
      }
    },
    {
      "cell_type": "code",
      "source": [
        "# Import torch\n",
        "import torch\n",
        "\n",
        "# Setup device agnostic code\n",
        "\n",
        "\n",
        "# Setup random seed\n",
        "RANDOM_SEED = 42"
      ],
      "metadata": {
        "id": "CSrUPgapO0tf"
      },
      "execution_count": 241,
      "outputs": []
    },
    {
      "cell_type": "code",
      "source": [
        "torch.cuda.is_available()"
      ],
      "metadata": {
        "id": "08fd5YerEqhP",
        "outputId": "bb950814-e4ee-4c3e-c53a-fbf213bd5ac9",
        "colab": {
          "base_uri": "https://localhost:8080/"
        }
      },
      "execution_count": 242,
      "outputs": [
        {
          "output_type": "execute_result",
          "data": {
            "text/plain": [
              "False"
            ]
          },
          "metadata": {},
          "execution_count": 242
        }
      ]
    },
    {
      "cell_type": "markdown",
      "source": [
        "## 1. Make a binary classification dataset with Scikit-Learn's [`make_moons()`](https://scikit-learn.org/stable/modules/generated/sklearn.datasets.make_moons.html) function.\n",
        "  * For consistency, the dataset should have 1000 samples and a `random_state=42`.\n",
        "  * Turn the data into PyTorch tensors.\n",
        "  * Split the data into training and test sets using `train_test_split` with 80% training and 20% testing."
      ],
      "metadata": {
        "id": "pH7jIZ2SPFee"
      }
    },
    {
      "cell_type": "code",
      "source": [
        "# Create a dataset with Scikit-Learn's make_moons()\n",
        "from sklearn.datasets import make_moons\n",
        "\n",
        "X, y = make_moons(1000)"
      ],
      "metadata": {
        "id": "5t4VhPV1PX1X"
      },
      "execution_count": 243,
      "outputs": []
    },
    {
      "cell_type": "code",
      "source": [
        "# Turn data into a DataFrame\n",
        "import pandas as pd\n",
        "\n",
        "df = pd.DataFrame({'X1': X[:,0],\n",
        "                   'X2': X[:,1],\n",
        "                   'label': y})\n"
      ],
      "metadata": {
        "id": "SUeHZ3-3P9C7"
      },
      "execution_count": 244,
      "outputs": []
    },
    {
      "cell_type": "code",
      "source": [
        "df.head()"
      ],
      "metadata": {
        "id": "VT5Es_OEFmJN",
        "outputId": "b847667c-f97c-4c28-b328-83bb801a7037",
        "colab": {
          "base_uri": "https://localhost:8080/",
          "height": 206
        }
      },
      "execution_count": 245,
      "outputs": [
        {
          "output_type": "execute_result",
          "data": {
            "text/plain": [
              "         X1        X2  label\n",
              "0 -0.999921  0.012591      0\n",
              "1  1.512668 -0.358587      1\n",
              "2 -0.850412  0.526117      0\n",
              "3  0.008727  0.368174      1\n",
              "4  0.539437  0.842026      0"
            ],
            "text/html": [
              "\n",
              "  <div id=\"df-04939730-4910-498c-b4db-ec91adea5280\" class=\"colab-df-container\">\n",
              "    <div>\n",
              "<style scoped>\n",
              "    .dataframe tbody tr th:only-of-type {\n",
              "        vertical-align: middle;\n",
              "    }\n",
              "\n",
              "    .dataframe tbody tr th {\n",
              "        vertical-align: top;\n",
              "    }\n",
              "\n",
              "    .dataframe thead th {\n",
              "        text-align: right;\n",
              "    }\n",
              "</style>\n",
              "<table border=\"1\" class=\"dataframe\">\n",
              "  <thead>\n",
              "    <tr style=\"text-align: right;\">\n",
              "      <th></th>\n",
              "      <th>X1</th>\n",
              "      <th>X2</th>\n",
              "      <th>label</th>\n",
              "    </tr>\n",
              "  </thead>\n",
              "  <tbody>\n",
              "    <tr>\n",
              "      <th>0</th>\n",
              "      <td>-0.999921</td>\n",
              "      <td>0.012591</td>\n",
              "      <td>0</td>\n",
              "    </tr>\n",
              "    <tr>\n",
              "      <th>1</th>\n",
              "      <td>1.512668</td>\n",
              "      <td>-0.358587</td>\n",
              "      <td>1</td>\n",
              "    </tr>\n",
              "    <tr>\n",
              "      <th>2</th>\n",
              "      <td>-0.850412</td>\n",
              "      <td>0.526117</td>\n",
              "      <td>0</td>\n",
              "    </tr>\n",
              "    <tr>\n",
              "      <th>3</th>\n",
              "      <td>0.008727</td>\n",
              "      <td>0.368174</td>\n",
              "      <td>1</td>\n",
              "    </tr>\n",
              "    <tr>\n",
              "      <th>4</th>\n",
              "      <td>0.539437</td>\n",
              "      <td>0.842026</td>\n",
              "      <td>0</td>\n",
              "    </tr>\n",
              "  </tbody>\n",
              "</table>\n",
              "</div>\n",
              "    <div class=\"colab-df-buttons\">\n",
              "\n",
              "  <div class=\"colab-df-container\">\n",
              "    <button class=\"colab-df-convert\" onclick=\"convertToInteractive('df-04939730-4910-498c-b4db-ec91adea5280')\"\n",
              "            title=\"Convert this dataframe to an interactive table.\"\n",
              "            style=\"display:none;\">\n",
              "\n",
              "  <svg xmlns=\"http://www.w3.org/2000/svg\" height=\"24px\" viewBox=\"0 -960 960 960\">\n",
              "    <path d=\"M120-120v-720h720v720H120Zm60-500h600v-160H180v160Zm220 220h160v-160H400v160Zm0 220h160v-160H400v160ZM180-400h160v-160H180v160Zm440 0h160v-160H620v160ZM180-180h160v-160H180v160Zm440 0h160v-160H620v160Z\"/>\n",
              "  </svg>\n",
              "    </button>\n",
              "\n",
              "  <style>\n",
              "    .colab-df-container {\n",
              "      display:flex;\n",
              "      gap: 12px;\n",
              "    }\n",
              "\n",
              "    .colab-df-convert {\n",
              "      background-color: #E8F0FE;\n",
              "      border: none;\n",
              "      border-radius: 50%;\n",
              "      cursor: pointer;\n",
              "      display: none;\n",
              "      fill: #1967D2;\n",
              "      height: 32px;\n",
              "      padding: 0 0 0 0;\n",
              "      width: 32px;\n",
              "    }\n",
              "\n",
              "    .colab-df-convert:hover {\n",
              "      background-color: #E2EBFA;\n",
              "      box-shadow: 0px 1px 2px rgba(60, 64, 67, 0.3), 0px 1px 3px 1px rgba(60, 64, 67, 0.15);\n",
              "      fill: #174EA6;\n",
              "    }\n",
              "\n",
              "    .colab-df-buttons div {\n",
              "      margin-bottom: 4px;\n",
              "    }\n",
              "\n",
              "    [theme=dark] .colab-df-convert {\n",
              "      background-color: #3B4455;\n",
              "      fill: #D2E3FC;\n",
              "    }\n",
              "\n",
              "    [theme=dark] .colab-df-convert:hover {\n",
              "      background-color: #434B5C;\n",
              "      box-shadow: 0px 1px 3px 1px rgba(0, 0, 0, 0.15);\n",
              "      filter: drop-shadow(0px 1px 2px rgba(0, 0, 0, 0.3));\n",
              "      fill: #FFFFFF;\n",
              "    }\n",
              "  </style>\n",
              "\n",
              "    <script>\n",
              "      const buttonEl =\n",
              "        document.querySelector('#df-04939730-4910-498c-b4db-ec91adea5280 button.colab-df-convert');\n",
              "      buttonEl.style.display =\n",
              "        google.colab.kernel.accessAllowed ? 'block' : 'none';\n",
              "\n",
              "      async function convertToInteractive(key) {\n",
              "        const element = document.querySelector('#df-04939730-4910-498c-b4db-ec91adea5280');\n",
              "        const dataTable =\n",
              "          await google.colab.kernel.invokeFunction('convertToInteractive',\n",
              "                                                    [key], {});\n",
              "        if (!dataTable) return;\n",
              "\n",
              "        const docLinkHtml = 'Like what you see? Visit the ' +\n",
              "          '<a target=\"_blank\" href=https://colab.research.google.com/notebooks/data_table.ipynb>data table notebook</a>'\n",
              "          + ' to learn more about interactive tables.';\n",
              "        element.innerHTML = '';\n",
              "        dataTable['output_type'] = 'display_data';\n",
              "        await google.colab.output.renderOutput(dataTable, element);\n",
              "        const docLink = document.createElement('div');\n",
              "        docLink.innerHTML = docLinkHtml;\n",
              "        element.appendChild(docLink);\n",
              "      }\n",
              "    </script>\n",
              "  </div>\n",
              "\n",
              "\n",
              "<div id=\"df-7a1e5f5d-0d91-42c9-a407-5cec34f8857f\">\n",
              "  <button class=\"colab-df-quickchart\" onclick=\"quickchart('df-7a1e5f5d-0d91-42c9-a407-5cec34f8857f')\"\n",
              "            title=\"Suggest charts\"\n",
              "            style=\"display:none;\">\n",
              "\n",
              "<svg xmlns=\"http://www.w3.org/2000/svg\" height=\"24px\"viewBox=\"0 0 24 24\"\n",
              "     width=\"24px\">\n",
              "    <g>\n",
              "        <path d=\"M19 3H5c-1.1 0-2 .9-2 2v14c0 1.1.9 2 2 2h14c1.1 0 2-.9 2-2V5c0-1.1-.9-2-2-2zM9 17H7v-7h2v7zm4 0h-2V7h2v10zm4 0h-2v-4h2v4z\"/>\n",
              "    </g>\n",
              "</svg>\n",
              "  </button>\n",
              "\n",
              "<style>\n",
              "  .colab-df-quickchart {\n",
              "      --bg-color: #E8F0FE;\n",
              "      --fill-color: #1967D2;\n",
              "      --hover-bg-color: #E2EBFA;\n",
              "      --hover-fill-color: #174EA6;\n",
              "      --disabled-fill-color: #AAA;\n",
              "      --disabled-bg-color: #DDD;\n",
              "  }\n",
              "\n",
              "  [theme=dark] .colab-df-quickchart {\n",
              "      --bg-color: #3B4455;\n",
              "      --fill-color: #D2E3FC;\n",
              "      --hover-bg-color: #434B5C;\n",
              "      --hover-fill-color: #FFFFFF;\n",
              "      --disabled-bg-color: #3B4455;\n",
              "      --disabled-fill-color: #666;\n",
              "  }\n",
              "\n",
              "  .colab-df-quickchart {\n",
              "    background-color: var(--bg-color);\n",
              "    border: none;\n",
              "    border-radius: 50%;\n",
              "    cursor: pointer;\n",
              "    display: none;\n",
              "    fill: var(--fill-color);\n",
              "    height: 32px;\n",
              "    padding: 0;\n",
              "    width: 32px;\n",
              "  }\n",
              "\n",
              "  .colab-df-quickchart:hover {\n",
              "    background-color: var(--hover-bg-color);\n",
              "    box-shadow: 0 1px 2px rgba(60, 64, 67, 0.3), 0 1px 3px 1px rgba(60, 64, 67, 0.15);\n",
              "    fill: var(--button-hover-fill-color);\n",
              "  }\n",
              "\n",
              "  .colab-df-quickchart-complete:disabled,\n",
              "  .colab-df-quickchart-complete:disabled:hover {\n",
              "    background-color: var(--disabled-bg-color);\n",
              "    fill: var(--disabled-fill-color);\n",
              "    box-shadow: none;\n",
              "  }\n",
              "\n",
              "  .colab-df-spinner {\n",
              "    border: 2px solid var(--fill-color);\n",
              "    border-color: transparent;\n",
              "    border-bottom-color: var(--fill-color);\n",
              "    animation:\n",
              "      spin 1s steps(1) infinite;\n",
              "  }\n",
              "\n",
              "  @keyframes spin {\n",
              "    0% {\n",
              "      border-color: transparent;\n",
              "      border-bottom-color: var(--fill-color);\n",
              "      border-left-color: var(--fill-color);\n",
              "    }\n",
              "    20% {\n",
              "      border-color: transparent;\n",
              "      border-left-color: var(--fill-color);\n",
              "      border-top-color: var(--fill-color);\n",
              "    }\n",
              "    30% {\n",
              "      border-color: transparent;\n",
              "      border-left-color: var(--fill-color);\n",
              "      border-top-color: var(--fill-color);\n",
              "      border-right-color: var(--fill-color);\n",
              "    }\n",
              "    40% {\n",
              "      border-color: transparent;\n",
              "      border-right-color: var(--fill-color);\n",
              "      border-top-color: var(--fill-color);\n",
              "    }\n",
              "    60% {\n",
              "      border-color: transparent;\n",
              "      border-right-color: var(--fill-color);\n",
              "    }\n",
              "    80% {\n",
              "      border-color: transparent;\n",
              "      border-right-color: var(--fill-color);\n",
              "      border-bottom-color: var(--fill-color);\n",
              "    }\n",
              "    90% {\n",
              "      border-color: transparent;\n",
              "      border-bottom-color: var(--fill-color);\n",
              "    }\n",
              "  }\n",
              "</style>\n",
              "\n",
              "  <script>\n",
              "    async function quickchart(key) {\n",
              "      const quickchartButtonEl =\n",
              "        document.querySelector('#' + key + ' button');\n",
              "      quickchartButtonEl.disabled = true;  // To prevent multiple clicks.\n",
              "      quickchartButtonEl.classList.add('colab-df-spinner');\n",
              "      try {\n",
              "        const charts = await google.colab.kernel.invokeFunction(\n",
              "            'suggestCharts', [key], {});\n",
              "      } catch (error) {\n",
              "        console.error('Error during call to suggestCharts:', error);\n",
              "      }\n",
              "      quickchartButtonEl.classList.remove('colab-df-spinner');\n",
              "      quickchartButtonEl.classList.add('colab-df-quickchart-complete');\n",
              "    }\n",
              "    (() => {\n",
              "      let quickchartButtonEl =\n",
              "        document.querySelector('#df-7a1e5f5d-0d91-42c9-a407-5cec34f8857f button');\n",
              "      quickchartButtonEl.style.display =\n",
              "        google.colab.kernel.accessAllowed ? 'block' : 'none';\n",
              "    })();\n",
              "  </script>\n",
              "</div>\n",
              "\n",
              "    </div>\n",
              "  </div>\n"
            ],
            "application/vnd.google.colaboratory.intrinsic+json": {
              "type": "dataframe",
              "variable_name": "df",
              "summary": "{\n  \"name\": \"df\",\n  \"rows\": 1000,\n  \"fields\": [\n    {\n      \"column\": \"X1\",\n      \"properties\": {\n        \"dtype\": \"number\",\n        \"std\": 0.8670361882596088,\n        \"min\": -1.0,\n        \"max\": 2.0,\n        \"num_unique_values\": 1000,\n        \"samples\": [\n          0.036420973524254996,\n          1.9995045808335687,\n          1.999682922307536\n        ],\n        \"semantic_type\": \"\",\n        \"description\": \"\"\n      }\n    },\n    {\n      \"column\": \"X2\",\n      \"properties\": {\n        \"dtype\": \"number\",\n        \"std\": 0.4940362888899496,\n        \"min\": -0.4999950454033061,\n        \"max\": 0.9999950454033061,\n        \"num_unique_values\": 916,\n        \"samples\": [\n          0.13117311260508657,\n          -0.4592507484145192,\n          0.953743241221784\n        ],\n        \"semantic_type\": \"\",\n        \"description\": \"\"\n      }\n    },\n    {\n      \"column\": \"label\",\n      \"properties\": {\n        \"dtype\": \"number\",\n        \"std\": 0,\n        \"min\": 0,\n        \"max\": 1,\n        \"num_unique_values\": 2,\n        \"samples\": [\n          1,\n          0\n        ],\n        \"semantic_type\": \"\",\n        \"description\": \"\"\n      }\n    }\n  ]\n}"
            }
          },
          "metadata": {},
          "execution_count": 245
        }
      ]
    },
    {
      "cell_type": "code",
      "source": [
        "# Visualize the data on a scatter plot\n",
        "import matplotlib.pyplot as plt\n",
        "\n",
        "plt.scatter(x=X[:,0],\n",
        "            y=X[:,1],\n",
        "            c=y,\n",
        "            cmap=plt.cm.RdYlBu)"
      ],
      "metadata": {
        "id": "owrkPSFvQPFI",
        "outputId": "2b115860-cc26-42d7-cfdd-43c4cc93bfc8",
        "colab": {
          "base_uri": "https://localhost:8080/",
          "height": 447
        }
      },
      "execution_count": 246,
      "outputs": [
        {
          "output_type": "execute_result",
          "data": {
            "text/plain": [
              "<matplotlib.collections.PathCollection at 0x78a051a13bb0>"
            ]
          },
          "metadata": {},
          "execution_count": 246
        },
        {
          "output_type": "display_data",
          "data": {
            "text/plain": [
              "<Figure size 640x480 with 1 Axes>"
            ],
            "image/png": "[encoded data removed]"
          },
          "metadata": {}
        }
      ]
    },
    {
      "cell_type": "code",
      "source": [
        "df.label.value_counts()"
      ],
      "metadata": {
        "id": "vBOBnCMdMUkX",
        "outputId": "a09d7afd-c95a-4c24-e116-234c1bd90d60",
        "colab": {
          "base_uri": "https://localhost:8080/"
        }
      },
      "execution_count": 247,
      "outputs": [
        {
          "output_type": "execute_result",
          "data": {
            "text/plain": [
              "0    500\n",
              "1    500\n",
              "Name: label, dtype: int64"
            ]
          },
          "metadata": {},
          "execution_count": 247
        }
      ]
    },
    {
      "cell_type": "code",
      "source": [
        "X.shape, y.shape"
      ],
      "metadata": {
        "id": "g8FfA1A8RXlM",
        "outputId": "107c0fc8-a123-4141-c2de-675e29c572c3",
        "colab": {
          "base_uri": "https://localhost:8080/"
        }
      },
      "execution_count": 248,
      "outputs": [
        {
          "output_type": "execute_result",
          "data": {
            "text/plain": [
              "((1000, 2), (1000,))"
            ]
          },
          "metadata": {},
          "execution_count": 248
        }
      ]
    },
    {
      "cell_type": "code",
      "source": [
        "# Turn data into tensors of dtype float\n",
        "X = torch.tensor(X, dtype=torch.float32)\n",
        "y = torch.tensor(y, dtype=torch.float32)\n",
        "\n",
        "# Split the data into train and test sets (80% train, 20% test)\n",
        "from sklearn.model_selection import train_test_split\n",
        "X_train, X_test, y_train, y_test = train_test_split(X, y, train_size=0.8, random_state=RANDOM_SEED)"
      ],
      "metadata": {
        "id": "bDhyHn9fR4dq"
      },
      "execution_count": 249,
      "outputs": []
    },
    {
      "cell_type": "markdown",
      "source": [
        "## 2. Build a model by subclassing `nn.Module` that incorporates non-linear activation functions and is capable of fitting the data you created in 1.\n",
        "  * Feel free to use any combination of PyTorch layers (linear and non-linear) you want."
      ],
      "metadata": {
        "id": "cMIjxZdzQfPz"
      }
    },
    {
      "cell_type": "code",
      "source": [
        "import torch\n",
        "from torch import nn, optim\n",
        "\n",
        "device = 'cuda' if torch.cuda.is_available() else 'cpu'\n",
        "print(f'device: {device}')\n",
        "\n",
        "# Inherit from nn.Module to make a model capable of fitting the moon data\n",
        "class MoonModelV0(nn.Module):\n",
        "    ## Your code here ##\n",
        "    def __init__(self):\n",
        "      super().__init__()\n",
        "      self.layer_1 = nn.Linear(in_features=2, out_features=5)\n",
        "      self.layer_2 = nn.Linear(in_features=5, out_features=1)\n",
        "\n",
        "\n",
        "    def forward(self, x):\n",
        "        ## Your code here ##\n",
        "        return self.layer_2(self.layer_1(x)).squeeze()\n",
        "\n",
        "# Instantiate the model\n",
        "## Your code here ##\n",
        "model_0 = MoonModelV0().to(device)\n",
        "print(model_0)"
      ],
      "metadata": {
        "id": "hwtyvm34Ri6Q",
        "outputId": "35b5b586-d2de-48e9-950a-2cdfa173d7ba",
        "colab": {
          "base_uri": "https://localhost:8080/"
        }
      },
      "execution_count": 250,
      "outputs": [
        {
          "output_type": "stream",
          "name": "stdout",
          "text": [
            "device: cpu\n",
            "MoonModelV0(\n",
            "  (layer_1): Linear(in_features=2, out_features=5, bias=True)\n",
            "  (layer_2): Linear(in_features=5, out_features=1, bias=True)\n",
            ")\n"
          ]
        }
      ]
    },
    {
      "cell_type": "markdown",
      "source": [
        "### Plotting loss function for Binary Classification problem"
      ],
      "metadata": {
        "id": "M-n5tBhbpXzE"
      }
    },
    {
      "cell_type": "code",
      "source": [
        "# import torch\n",
        "# import numpy as np\n",
        "# import matplotlib.pyplot as plt\n",
        "\n",
        "# # Define the range of probabilities\n",
        "# p = np.linspace(0.001, 0.999, 1000)\n",
        "\n",
        "# # Calculate the binary cross-entropy loss\n",
        "# loss = -np.log(p)\n",
        "\n",
        "# # Plot the loss\n",
        "# plt.plot(p, loss)\n",
        "# plt.xlabel('p(x): model output for the probability of this sample being Positive')\n",
        "# plt.ylabel('-log(p(x)): cost for a Positive sample')\n",
        "# plt.title('Cost for a Positive sample')\n",
        "# plt.show()\n",
        "\n",
        "\n",
        "# # Calculate the binary cross-entropy loss\n",
        "# loss = -np.log(1-p)\n",
        "\n",
        "# # Plot the loss\n",
        "# plt.plot(p, loss)\n",
        "# plt.xlabel('p(x): model output for the probability of this sample being Positive')\n",
        "# plt.ylabel('-log(1 - p(x)): cost for a Negative sample')\n",
        "# plt.title('Cost for a Negative sample')\n",
        "# plt.show()"
      ],
      "metadata": {
        "id": "CC4NtmdIFerf"
      },
      "execution_count": 251,
      "outputs": []
    },
    {
      "cell_type": "markdown",
      "source": [
        "## 3. Setup a binary classification compatible loss function and optimizer to use when training the model built in 2."
      ],
      "metadata": {
        "id": "DSj97RwyVeFE"
      }
    },
    {
      "cell_type": "code",
      "source": [
        "# Setup loss function\n",
        "loss_fn = nn.BCEWithLogitsLoss()\n",
        "\n",
        "# Setup optimizer to optimize model's parameters\n",
        "opt = optim.SGD(params=model_0.parameters(),\n",
        "                lr=0.1)"
      ],
      "metadata": {
        "id": "whSGw5qgVvxU"
      },
      "execution_count": 252,
      "outputs": []
    },
    {
      "cell_type": "markdown",
      "source": [
        "## 4. Create a training and testing loop to fit the model you created in 2 to the data you created in 1.\n",
        "  * Do a forward pass of the model to see what's coming out in the form of logits, prediction probabilities and labels.\n",
        "  * To measure model accuracy, you can create your own accuracy function or use the accuracy function in [TorchMetrics](https://torchmetrics.readthedocs.io/en/latest/).\n",
        "  * Train the model for long enough for it to reach over 96% accuracy.\n",
        "  * The training loop should output progress every 10 epochs of the model's training and test set loss and accuracy."
      ],
      "metadata": {
        "id": "nvk4PfNTWUAt"
      }
    },
    {
      "cell_type": "code",
      "source": [
        "model_0"
      ],
      "metadata": {
        "id": "w0EpWlWJ0kwT",
        "outputId": "bafece5d-ef2d-40cf-fe8c-443e834edb4a",
        "colab": {
          "base_uri": "https://localhost:8080/"
        }
      },
      "execution_count": 253,
      "outputs": [
        {
          "output_type": "execute_result",
          "data": {
            "text/plain": [
              "MoonModelV0(\n",
              "  (layer_1): Linear(in_features=2, out_features=5, bias=True)\n",
              "  (layer_2): Linear(in_features=5, out_features=1, bias=True)\n",
              ")"
            ]
          },
          "metadata": {},
          "execution_count": 253
        }
      ]
    },
    {
      "cell_type": "code",
      "source": [
        "model_0.state_dict()"
      ],
      "metadata": {
        "id": "LAcIKiTB0ORM",
        "outputId": "77465985-9839-40e5-a490-529d58896b90",
        "colab": {
          "base_uri": "https://localhost:8080/"
        }
      },
      "execution_count": 254,
      "outputs": [
        {
          "output_type": "execute_result",
          "data": {
            "text/plain": [
              "OrderedDict([('layer_1.weight',\n",
              "              tensor([[-0.3041, -0.0775],\n",
              "                      [-0.5293,  0.6441],\n",
              "                      [-0.5190,  0.3779],\n",
              "                      [ 0.2485,  0.2298],\n",
              "                      [-0.3823,  0.6427]])),\n",
              "             ('layer_1.bias',\n",
              "              tensor([ 0.1554,  0.0910, -0.6231,  0.2968, -0.1061])),\n",
              "             ('layer_2.weight',\n",
              "              tensor([[-0.2049,  0.3841,  0.0997, -0.2474, -0.2264]])),\n",
              "             ('layer_2.bias', tensor([-0.0214]))])"
            ]
          },
          "metadata": {},
          "execution_count": 254
        }
      ]
    },
    {
      "cell_type": "code",
      "source": [
        "print(X[:5])\n",
        "print(y[:5])"
      ],
      "metadata": {
        "id": "tdYu0Phl1811",
        "outputId": "80379766-deb1-4a6e-e249-9b09c89f6bb2",
        "colab": {
          "base_uri": "https://localhost:8080/"
        }
      },
      "execution_count": 255,
      "outputs": [
        {
          "output_type": "stream",
          "name": "stdout",
          "text": [
            "tensor([[-0.9999,  0.0126],\n",
            "        [ 1.5127, -0.3586],\n",
            "        [-0.8504,  0.5261],\n",
            "        [ 0.0087,  0.3682],\n",
            "        [ 0.5394,  0.8420]])\n",
            "tensor([0., 1., 0., 1., 0.])\n"
          ]
        }
      ]
    },
    {
      "cell_type": "code",
      "source": [
        "# What's coming out of our model?\n",
        "\n",
        "# logits (raw outputs of model)\n",
        "print(\"Logits:\")\n",
        "y_logits = model_0(X.to(device))[:5]\n",
        "print(y_logits)\n",
        "\n",
        "# Prediction probabilities\n",
        "print(\"Pred probs:\")\n",
        "## Your code here ##\n",
        "y_pred_probs = torch.sigmoid(y_logits)\n",
        "print(y_pred_probs)\n",
        "\n",
        "# Prediction labels\n",
        "print(\"Pred labels:\")\n",
        "## Your code here ##\n",
        "y_preds = torch.round(y_pred_probs)\n",
        "print(y_preds)"
      ],
      "metadata": {
        "colab": {
          "base_uri": "https://localhost:8080/"
        },
        "id": "AgnFdlamd2-D",
        "outputId": "c2883932-34c8-4097-897e-ffdd236349b3"
      },
      "execution_count": 256,
      "outputs": [
        {
          "output_type": "stream",
          "name": "stdout",
          "text": [
            "Logits:\n",
            "tensor([ 0.0391, -0.4188,  0.0647, -0.0950, -0.1372], grad_fn=<SliceBackward0>)\n",
            "Pred probs:\n",
            "tensor([0.5098, 0.3968, 0.5162, 0.4763, 0.4657], grad_fn=<SigmoidBackward0>)\n",
            "Pred labels:\n",
            "tensor([1., 0., 1., 0., 0.], grad_fn=<RoundBackward0>)\n"
          ]
        }
      ]
    },
    {
      "cell_type": "code",
      "source": [
        "# Let's calculuate the accuracy using accuracy from TorchMetrics\n",
        "!pip -q install torchmetrics # Colab doesn't come with torchmetrics\n",
        "from torchmetrics import Accuracy\n",
        "\n",
        "## TODO: Uncomment this code to use the Accuracy function\n",
        "acc_fn = Accuracy(task=\"multiclass\", num_classes=2).to(device) # send accuracy function to device\n",
        "acc_fn"
      ],
      "metadata": {
        "id": "rUSDNHB4euoJ",
        "outputId": "8c9e8529-020f-4d53-c50e-8eb7f83eff3d",
        "colab": {
          "base_uri": "https://localhost:8080/"
        }
      },
      "execution_count": 257,
      "outputs": [
        {
          "output_type": "execute_result",
          "data": {
            "text/plain": [
              "MulticlassAccuracy()"
            ]
          },
          "metadata": {},
          "execution_count": 257
        }
      ]
    },
    {
      "cell_type": "code",
      "source": [
        "## TODO: Uncomment this to set the seed\n",
        "torch.manual_seed(RANDOM_SEED)\n",
        "\n",
        "# Setup epochs\n",
        "epochs = 1000\n",
        "\n",
        "# Send data to the device\n",
        "# already on device\n",
        "\n",
        "def train_model(model, optimizer):\n",
        "  # Loop through the data\n",
        "  for epoch in range(epochs):\n",
        "    ### Training\n",
        "    model.train()\n",
        "\n",
        "    # 1. Forward pass (logits output)\n",
        "    y_pred_logits = model(X_train)\n",
        "    # Turn logits into prediction probabilities\n",
        "    y_pred_probs = torch.sigmoid(y_pred_logits)\n",
        "\n",
        "    # Turn prediction probabilities into prediction labels\n",
        "    y_pred_labels = torch.round(y_pred_probs)\n",
        "\n",
        "    # 2. Calculaute the loss\n",
        "    loss = loss_fn(y_pred_logits, y_train) # loss = compare model raw outputs to desired model outputs\n",
        "    # print(loss)\n",
        "\n",
        "    # Calculate the accuracy\n",
        "    acc = acc_fn(y_pred_labels, y_train) # the accuracy function needs to compare pred labels (not logits) with actual labels\n",
        "    # print(acc)\n",
        "\n",
        "    # 3. Zero the gradients\n",
        "    optimizer.zero_grad()\n",
        "    # print(optimizer)\n",
        "\n",
        "    # 4. Loss backward (perform backpropagation) - https://brilliant.org/wiki/backpropagation/#:~:text=Backpropagation%2C%20short%20for%20%22backward%20propagation,to%20the%20neural%20network's%20weights.\n",
        "    loss.backward()\n",
        "    # print(loss)\n",
        "\n",
        "    # 5. Step the optimizer (gradient descent) - https://towardsdatascience.com/gradient-descent-algorithm-a-deep-dive-cf04e8115f21#:~:text=Gradient%20descent%20(GD)%20is%20an,e.g.%20in%20a%20linear%20regression)\n",
        "    optimizer.step()\n",
        "    # print(optimizer)\n",
        "\n",
        "    ### Testing\n",
        "    model.eval()\n",
        "    with torch.inference_mode():\n",
        "      # 1. Forward pass (to get the logits)\n",
        "      y_test_logits = model(X_test)\n",
        "      # Turn the test logits into prediction labels\n",
        "      y_test_labels = torch.round(torch.sigmoid(y_test_logits))\n",
        "\n",
        "      # 2. Caculate the test loss/acc\n",
        "      acc_test = acc_fn(preds=y_test_labels,\n",
        "                        target=y_test, )\n",
        "      loss_test = loss_fn(y_test_logits,\n",
        "                      y_test)\n",
        "\n",
        "    # Print out what's happening every x epochs\n",
        "    if epoch % 100 == 0:\n",
        "      print(f\"Epoch: {epoch} | Loss: {loss:.5f} | Accuracy: {acc:.5f} | Loss (Test): {loss_test:.5f} | Accuracy (Test): {acc_test:.5f}\")"
      ],
      "metadata": {
        "id": "SHBY3h7XXnxt"
      },
      "execution_count": 277,
      "outputs": []
    },
    {
      "cell_type": "markdown",
      "source": [
        "## 5. Make predictions with your trained model and plot them using the `plot_decision_boundary()` function created in this notebook."
      ],
      "metadata": {
        "id": "8Nwihtomj9JO"
      }
    },
    {
      "cell_type": "code",
      "source": [
        "# Plot the model predictions\n",
        "import numpy as np\n",
        "\n",
        "def plot_decision_boundary(model, X, y):\n",
        "\n",
        "    # Put everything to CPU (works better with NumPy + Matplotlib)\n",
        "    model.to(\"cpu\")\n",
        "    X, y = X.to(\"cpu\"), y.to(\"cpu\")\n",
        "\n",
        "    # Source - https://madewithml.com/courses/foundations/neural-networks/\n",
        "    # (with modifications)\n",
        "    x_min, x_max = X[:, 0].min() - 0.1, X[:, 0].max() + 0.1\n",
        "    y_min, y_max = X[:, 1].min() - 0.1, X[:, 1].max() + 0.1\n",
        "    xx, yy = np.meshgrid(np.linspace(x_min, x_max, 101),\n",
        "                         np.linspace(y_min, y_max, 101))\n",
        "\n",
        "    # Make features\n",
        "    X_to_pred_on = torch.from_numpy(np.column_stack((xx.ravel(), yy.ravel()))).float()\n",
        "\n",
        "    # Make predictions\n",
        "    model.eval()\n",
        "    with torch.inference_mode():\n",
        "        y_logits = model(X_to_pred_on)\n",
        "\n",
        "    # Test for multi-class or binary and adjust logits to prediction labels\n",
        "    if len(torch.unique(y)) > 2:\n",
        "        y_pred = torch.softmax(y_logits, dim=1).argmax(dim=1) # mutli-class\n",
        "    else:\n",
        "        y_pred = torch.round(torch.sigmoid(y_logits)) # binary\n",
        "\n",
        "    # Reshape preds and plot\n",
        "    y_pred = y_pred.reshape(xx.shape).detach().numpy()\n",
        "    plt.contourf(xx, yy, y_pred, cmap=plt.cm.RdYlBu, alpha=0.7)\n",
        "    plt.scatter(X[:, 0], X[:, 1], c=y, s=40, cmap=plt.cm.RdYlBu)\n",
        "    plt.xlim(xx.min(), xx.max())\n",
        "    plt.ylim(yy.min(), yy.max())"
      ],
      "metadata": {
        "id": "0YRzatb8a1P2"
      },
      "execution_count": 259,
      "outputs": []
    },
    {
      "cell_type": "code",
      "source": [
        "train_model(model_0, optimizer=opt)"
      ],
      "metadata": {
        "id": "XuGF-CexIEU2",
        "outputId": "4c8cd531-fb32-4096-b624-f7091f812fb2",
        "colab": {
          "base_uri": "https://localhost:8080/"
        }
      },
      "execution_count": 278,
      "outputs": [
        {
          "output_type": "stream",
          "name": "stdout",
          "text": [
            "Epoch: 0 | Loss: 0.23172 | Accuracy: 0.89375 | Loss (Test): 0.26062 | Accuracy (Test): 0.88000\n",
            "Epoch: 100 | Loss: 0.23172 | Accuracy: 0.89375 | Loss (Test): 0.26061 | Accuracy (Test): 0.88000\n",
            "Epoch: 200 | Loss: 0.23172 | Accuracy: 0.89375 | Loss (Test): 0.26061 | Accuracy (Test): 0.88000\n",
            "Epoch: 300 | Loss: 0.23172 | Accuracy: 0.89375 | Loss (Test): 0.26060 | Accuracy (Test): 0.88000\n",
            "Epoch: 400 | Loss: 0.23172 | Accuracy: 0.89375 | Loss (Test): 0.26060 | Accuracy (Test): 0.88000\n",
            "Epoch: 500 | Loss: 0.23172 | Accuracy: 0.89375 | Loss (Test): 0.26060 | Accuracy (Test): 0.88000\n",
            "Epoch: 600 | Loss: 0.23172 | Accuracy: 0.89375 | Loss (Test): 0.26060 | Accuracy (Test): 0.88000\n",
            "Epoch: 700 | Loss: 0.23172 | Accuracy: 0.89375 | Loss (Test): 0.26060 | Accuracy (Test): 0.88000\n",
            "Epoch: 800 | Loss: 0.23172 | Accuracy: 0.89375 | Loss (Test): 0.26060 | Accuracy (Test): 0.88000\n",
            "Epoch: 900 | Loss: 0.23172 | Accuracy: 0.89375 | Loss (Test): 0.26060 | Accuracy (Test): 0.88000\n"
          ]
        }
      ]
    },
    {
      "cell_type": "code",
      "source": [
        "# Plot decision boundaries for training and test sets\n",
        "# plot_decision_boundary(model_0, X_train, y_train)\n",
        "plot_decision_boundary(model_0, X_test,  y_test )"
      ],
      "metadata": {
        "id": "PMrcpyirig1d",
        "outputId": "1f1a77a1-8d0d-48be-d815-47ab3327cc2a",
        "colab": {
          "base_uri": "https://localhost:8080/",
          "height": 430
        }
      },
      "execution_count": 260,
      "outputs": [
        {
          "output_type": "display_data",
          "data": {
            "text/plain": [
              "<Figure size 640x480 with 1 Axes>"
            ],
            "image/png": "[encoded data removed]"
          },
          "metadata": {}
        }
      ]
    },
    {
      "cell_type": "markdown",
      "source": [
        "## Improving model"
      ],
      "metadata": {
        "id": "oAH-GRODHJCV"
      }
    },
    {
      "cell_type": "code",
      "source": [
        "class MoonModelV1(nn.Module):\n",
        "    ## Your code here ##\n",
        "    def __init__(self):\n",
        "      super().__init__()\n",
        "      self.layer_1 = nn.Linear(in_features=2, out_features=10)\n",
        "      self.layer_2 = nn.Linear(in_features=10, out_features=10)\n",
        "      self.layer_3 = nn.Linear(in_features=10, out_features=1)\n",
        "\n",
        "\n",
        "    def forward(self, x):\n",
        "        ## Your code here ##\n",
        "        return self.layer_3(self.layer_2(self.layer_1(x))).squeeze()"
      ],
      "metadata": {
        "id": "-tEpBY1fHIm0"
      },
      "execution_count": 261,
      "outputs": []
    },
    {
      "cell_type": "code",
      "source": [
        "model_1 = MoonModelV1()\n",
        "optimizer_1 = optim.SGD(params=model_1.parameters(),\n",
        "                        lr=0.1)\n",
        "train_model(model_1, optimizer_1)"
      ],
      "metadata": {
        "id": "XT3YxcCsHSzO",
        "outputId": "f80e7095-089d-41a3-ba95-3cfffca80dbf",
        "colab": {
          "base_uri": "https://localhost:8080/"
        }
      },
      "execution_count": 280,
      "outputs": [
        {
          "output_type": "stream",
          "name": "stdout",
          "text": [
            "Epoch: 0 | Loss: 0.64904 | Accuracy: 0.84750 | Loss (Test): 0.63734 | Accuracy (Test): 0.80000\n",
            "Epoch: 100 | Loss: 0.25816 | Accuracy: 0.86750 | Loss (Test): 0.29443 | Accuracy (Test): 0.84500\n",
            "Epoch: 200 | Loss: 0.23312 | Accuracy: 0.89125 | Loss (Test): 0.26285 | Accuracy (Test): 0.87500\n",
            "Epoch: 300 | Loss: 0.23179 | Accuracy: 0.89375 | Loss (Test): 0.26081 | Accuracy (Test): 0.88000\n",
            "Epoch: 400 | Loss: 0.23172 | Accuracy: 0.89375 | Loss (Test): 0.26063 | Accuracy (Test): 0.88000\n",
            "Epoch: 500 | Loss: 0.23172 | Accuracy: 0.89375 | Loss (Test): 0.26060 | Accuracy (Test): 0.88000\n",
            "Epoch: 600 | Loss: 0.23172 | Accuracy: 0.89375 | Loss (Test): 0.26060 | Accuracy (Test): 0.88000\n",
            "Epoch: 700 | Loss: 0.23172 | Accuracy: 0.89375 | Loss (Test): 0.26060 | Accuracy (Test): 0.88000\n",
            "Epoch: 800 | Loss: 0.23172 | Accuracy: 0.89375 | Loss (Test): 0.26060 | Accuracy (Test): 0.88000\n",
            "Epoch: 900 | Loss: 0.23172 | Accuracy: 0.89375 | Loss (Test): 0.26060 | Accuracy (Test): 0.88000\n"
          ]
        }
      ]
    },
    {
      "cell_type": "code",
      "source": [
        "plot_decision_boundary(model_1, X_test,  y_test )"
      ],
      "metadata": {
        "id": "l23-WxTaJnjM",
        "outputId": "8206b2ec-6c2a-4b72-a7ce-32d98ae1ee3e",
        "colab": {
          "base_uri": "https://localhost:8080/",
          "height": 430
        }
      },
      "execution_count": 286,
      "outputs": [
        {
          "output_type": "display_data",
          "data": {
            "text/plain": [
              "<Figure size 640x480 with 1 Axes>"
            ],
            "image/png": "[encoded data removed]"
          },
          "metadata": {}
        }
      ]
    },
    {
      "cell_type": "code",
      "source": [
        "class MoonModelV2(nn.Module):\n",
        "    ## Your code here ##\n",
        "    def __init__(self):\n",
        "      super().__init__()\n",
        "      self.layer_1 = nn.Linear(in_features=2, out_features=10)\n",
        "      self.layer_2 = nn.Linear(in_features=10, out_features=10)\n",
        "      self.layer_3 = nn.Linear(in_features=10, out_features=10)\n",
        "      self.layer_4 = nn.Linear(in_features=10, out_features=1)\n",
        "      self.relu = nn.ReLU()\n",
        "\n",
        "\n",
        "    def forward(self, x):\n",
        "        ## Your code here ##\n",
        "        return self.layer_4(self.relu(self.layer_3(self.relu(self.layer_2(self.relu(self.layer_1(x))))))).squeeze()"
      ],
      "metadata": {
        "id": "42izSipBHvM_"
      },
      "execution_count": 288,
      "outputs": []
    },
    {
      "cell_type": "code",
      "source": [
        "model_2 = MoonModelV2()\n",
        "optimizer_2 = optim.SGD(params=model_2.parameters(),\n",
        "                        lr=0.1)\n",
        "train_model(model_2, optimizer_2)"
      ],
      "metadata": {
        "id": "GrKZz_nJJdHX",
        "outputId": "add3797d-cd58-41c7-d48a-ff0788590283",
        "colab": {
          "base_uri": "https://localhost:8080/"
        }
      },
      "execution_count": 289,
      "outputs": [
        {
          "output_type": "stream",
          "name": "stdout",
          "text": [
            "Epoch: 0 | Loss: 0.69512 | Accuracy: 0.40375 | Loss (Test): 0.69403 | Accuracy (Test): 0.50000\n",
            "Epoch: 100 | Loss: 0.47918 | Accuracy: 0.85250 | Loss (Test): 0.48757 | Accuracy (Test): 0.83500\n",
            "Epoch: 200 | Loss: 0.29024 | Accuracy: 0.90250 | Loss (Test): 0.31126 | Accuracy (Test): 0.88000\n",
            "Epoch: 300 | Loss: 0.24513 | Accuracy: 0.90250 | Loss (Test): 0.27194 | Accuracy (Test): 0.87500\n",
            "Epoch: 400 | Loss: 0.22005 | Accuracy: 0.90500 | Loss (Test): 0.24821 | Accuracy (Test): 0.88000\n",
            "Epoch: 500 | Loss: 0.19476 | Accuracy: 0.91375 | Loss (Test): 0.22116 | Accuracy (Test): 0.90500\n",
            "Epoch: 600 | Loss: 0.15539 | Accuracy: 0.94000 | Loss (Test): 0.17599 | Accuracy (Test): 0.92500\n",
            "Epoch: 700 | Loss: 0.10130 | Accuracy: 0.97375 | Loss (Test): 0.11308 | Accuracy (Test): 0.97500\n",
            "Epoch: 800 | Loss: 0.05710 | Accuracy: 0.99750 | Loss (Test): 0.06175 | Accuracy (Test): 0.99000\n",
            "Epoch: 900 | Loss: 0.03522 | Accuracy: 1.00000 | Loss (Test): 0.03688 | Accuracy (Test): 1.00000\n"
          ]
        }
      ]
    },
    {
      "cell_type": "code",
      "source": [
        "plot_decision_boundary(model_2, X_test,  y_test )"
      ],
      "metadata": {
        "id": "l4lyOiIcJpG_",
        "outputId": "ab9384d8-1b08-487f-c89d-2e464ee62442",
        "colab": {
          "base_uri": "https://localhost:8080/",
          "height": 430
        }
      },
      "execution_count": 290,
      "outputs": [
        {
          "output_type": "display_data",
          "data": {
            "text/plain": [
              "<Figure size 640x480 with 1 Axes>"
            ],
            "image/png": "[encoded data removed]"
          },
          "metadata": {}
        }
      ]
    },
    {
      "cell_type": "markdown",
      "source": [
        "## 6. Replicate the Tanh (hyperbolic tangent) activation function in pure PyTorch.\n",
        "  * Feel free to reference the [ML cheatsheet website](https://ml-cheatsheet.readthedocs.io/en/latest/activation_functions.html#tanh) for the formula."
      ],
      "metadata": {
        "id": "EtMYBvtciiAU"
      }
    },
    {
      "cell_type": "code",
      "source": [
        "# Create a straight line tensor\n"
      ],
      "metadata": {
        "id": "BlXaWC5TkEUE"
      },
      "execution_count": 264,
      "outputs": []
    },
    {
      "cell_type": "code",
      "source": [
        "# Test torch.tanh() on the tensor and plot it\n"
      ],
      "metadata": {
        "id": "vZPCcQmIkZjO"
      },
      "execution_count": 265,
      "outputs": []
    },
    {
      "cell_type": "code",
      "source": [
        "# Replicate torch.tanh() and plot it\n"
      ],
      "metadata": {
        "id": "J-ne__Kjkdc1"
      },
      "execution_count": 266,
      "outputs": []
    },
    {
      "cell_type": "markdown",
      "source": [
        "## 7. Create a multi-class dataset using the [spirals data creation function from CS231n](https://cs231n.github.io/neural-networks-case-study/) (see below for the code).\n",
        "  * Split the data into training and test sets (80% train, 20% test) as well as turn it into PyTorch tensors.\n",
        "  * Construct a model capable of fitting the data (you may need a combination of linear and non-linear layers).\n",
        "  * Build a loss function and optimizer capable of handling multi-class data (optional extension: use the Adam optimizer instead of SGD, you may have to experiment with different values of the learning rate to get it working).\n",
        "  * Make a training and testing loop for the multi-class data and train a model on it to reach over 95% testing accuracy (you can use any accuracy measuring function here that you like) - 1000 epochs should be plenty.\n",
        "  * Plot the decision boundaries on the spirals dataset from your model predictions, the `plot_decision_boundary()` function should work for this dataset too."
      ],
      "metadata": {
        "id": "Lbt1bNcWk5G9"
      }
    },
    {
      "cell_type": "code",
      "source": [
        "# Code for creating a spiral dataset from CS231n\n",
        "import numpy as np\n",
        "import matplotlib.pyplot as plt\n",
        "RANDOM_SEED = 42\n",
        "np.random.seed(RANDOM_SEED)\n",
        "N = 100 # number of points per class\n",
        "D = 2 # dimensionality\n",
        "K = 3 # number of classes\n",
        "X = np.zeros((N*K,D)) # data matrix (each row = single example)\n",
        "y = np.zeros(N*K, dtype='uint8') # class labels\n",
        "for j in range(K):\n",
        "  ix = range(N*j,N*(j+1))\n",
        "  r = np.linspace(0.0,1,N) # radius\n",
        "  t = np.linspace(j*4,(j+1)*4,N) + np.random.randn(N)*0.2 # theta\n",
        "  X[ix] = np.c_[r*np.sin(t), r*np.cos(t)]\n",
        "  y[ix] = j\n",
        "# lets visualize the data\n",
        "plt.scatter(X[:, 0], X[:, 1], c=y, s=40, cmap=plt.cm.RdYlBu)\n",
        "plt.show()"
      ],
      "metadata": {
        "colab": {
          "base_uri": "https://localhost:8080/",
          "height": 430
        },
        "id": "tU-UNZsKlJls",
        "outputId": "8e07dd18-7702-4382-ce32-5999b94fa178"
      },
      "execution_count": 267,
      "outputs": [
        {
          "output_type": "display_data",
          "data": {
            "text/plain": [
              "<Figure size 640x480 with 1 Axes>"
            ],
            "image/png": "[encoded data removed]"
          },
          "metadata": {}
        }
      ]
    },
    {
      "cell_type": "code",
      "source": [
        "# Turn data into tensors\n",
        "import torch\n",
        "X = torch.from_numpy(X).type(torch.float) # features as float32\n",
        "y = torch.from_numpy(y).type(torch.LongTensor) # labels need to be of type long\n",
        "\n",
        "# Create train and test splits\n",
        "from sklearn.model_selection import train_test_split\n"
      ],
      "metadata": {
        "id": "OWVrmkEyl0VP"
      },
      "execution_count": 268,
      "outputs": []
    },
    {
      "cell_type": "code",
      "source": [
        "# Let's calculuate the accuracy for when we fit our model\n",
        "!pip -q install torchmetrics # colab doesn't come with torchmetrics\n",
        "from torchmetrics import Accuracy\n",
        "\n",
        "## TODO: uncomment the two lines below to send the accuracy function to the device\n",
        "# acc_fn = Accuracy(task=\"multiclass\", num_classes=4).to(device)\n",
        "# acc_fn"
      ],
      "metadata": {
        "id": "a-v-7f0op0tG"
      },
      "execution_count": 269,
      "outputs": []
    },
    {
      "cell_type": "code",
      "source": [
        "# Prepare device agnostic code\n",
        "# device = \"cuda\" if torch.cuda.is_available() else \"cpu\"\n",
        "\n",
        "# Create model by subclassing nn.Module\n",
        "\n",
        "\n",
        "\n",
        "# Instantiate model and send it to device\n"
      ],
      "metadata": {
        "id": "DB3u3ldumapf"
      },
      "execution_count": 270,
      "outputs": []
    },
    {
      "cell_type": "code",
      "source": [
        "# Setup data to be device agnostic\n",
        "\n",
        "\n",
        "# Print out first 10 untrained model outputs (forward pass)\n",
        "print(\"Logits:\")\n",
        "## Your code here ##\n",
        "\n",
        "print(\"Pred probs:\")\n",
        "## Your code here ##\n",
        "\n",
        "print(\"Pred labels:\")\n",
        "## Your code here ##"
      ],
      "metadata": {
        "colab": {
          "base_uri": "https://localhost:8080/"
        },
        "id": "QE7XWSSunMTS",
        "outputId": "eeaba21e-68af-44bc-d88b-9e96d1a841d8"
      },
      "execution_count": 271,
      "outputs": [
        {
          "output_type": "stream",
          "name": "stdout",
          "text": [
            "Logits:\n",
            "Pred probs:\n",
            "Pred labels:\n"
          ]
        }
      ]
    },
    {
      "cell_type": "code",
      "source": [
        "# Setup loss function and optimizer\n",
        "# loss_fn =\n",
        "# optimizer ="
      ],
      "metadata": {
        "id": "54EqLRKLo0AW"
      },
      "execution_count": 272,
      "outputs": []
    },
    {
      "cell_type": "code",
      "source": [
        "# Build a training loop for the model\n",
        "\n",
        "# Loop over data\n",
        "\n",
        "\n",
        "  ## Training\n",
        "\n",
        "  # 1. Forward pass\n",
        "\n",
        "\n",
        "  # 2. Calculate the loss\n",
        "\n",
        "\n",
        "  # 3. Optimizer zero grad\n",
        "\n",
        "\n",
        "  # 4. Loss backward\n",
        "\n",
        "\n",
        "  # 5. Optimizer step\n",
        "\n",
        "\n",
        "  ## Testing\n",
        "\n",
        "\n",
        "    # 1. Forward pass\n",
        "\n",
        "    # 2. Caculate loss and acc\n",
        "\n",
        "  # Print out what's happening every 100 epochs\n"
      ],
      "metadata": {
        "id": "vIlExkUHnmxi"
      },
      "execution_count": 273,
      "outputs": []
    },
    {
      "cell_type": "code",
      "source": [
        "# Plot decision boundaries for training and test sets\n"
      ],
      "metadata": {
        "id": "JrwVRbaE0keT"
      },
      "execution_count": 274,
      "outputs": []
    }
  ]
}